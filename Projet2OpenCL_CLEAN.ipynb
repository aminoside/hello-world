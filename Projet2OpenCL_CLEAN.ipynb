{
  "cells": [
    {
      "cell_type": "markdown",
      "metadata": {
        "id": "view-in-github",
        "colab_type": "text"
      },
      "source": [
        "<a href=\"https://colab.research.google.com/github/aminoside/hello-world/blob/master/Projet2OpenCL_CLEAN.ipynb\" target=\"_parent\"><img src=\"https://colab.research.google.com/assets/colab-badge.svg\" alt=\"Open In Colab\"/></a>"
      ]
    },
    {
      "cell_type": "code",
      "execution_count": null,
      "id": "38f00752",
      "metadata": {
        "colab": {
          "base_uri": "https://localhost:8080/",
          "height": 355
        },
        "id": "38f00752",
        "outputId": "f01dab99-b894-41e8-99ea-a468495016c4"
      },
      "outputs": [
        {
          "output_type": "error",
          "ename": "FileNotFoundError",
          "evalue": "[Errno 2] No such file or directory: 'data.csv'",
          "traceback": [
            "\u001b[0;31m---------------------------------------------------------------------------\u001b[0m",
            "\u001b[0;31mFileNotFoundError\u001b[0m                         Traceback (most recent call last)",
            "\u001b[0;32m<ipython-input-13-03d48a4b1326>\u001b[0m in \u001b[0;36m<cell line: 0>\u001b[0;34m()\u001b[0m\n\u001b[1;32m      6\u001b[0m \u001b[0;34m\u001b[0m\u001b[0m\n\u001b[1;32m      7\u001b[0m \u001b[0;34m\u001b[0m\u001b[0m\n\u001b[0;32m----> 8\u001b[0;31m \u001b[0mdf\u001b[0m \u001b[0;34m=\u001b[0m \u001b[0mpd\u001b[0m\u001b[0;34m.\u001b[0m\u001b[0mread_csv\u001b[0m\u001b[0;34m(\u001b[0m\u001b[0;34m\"data.csv\"\u001b[0m\u001b[0;34m,\u001b[0m \u001b[0mlow_memory\u001b[0m\u001b[0;34m=\u001b[0m\u001b[0;32mFalse\u001b[0m\u001b[0;34m,\u001b[0m \u001b[0mdelimiter\u001b[0m\u001b[0;34m=\u001b[0m\u001b[0;34m'\\t'\u001b[0m\u001b[0;34m)\u001b[0m\u001b[0;34m\u001b[0m\u001b[0;34m\u001b[0m\u001b[0m\n\u001b[0m",
            "\u001b[0;32m/usr/local/lib/python3.11/dist-packages/pandas/io/parsers/readers.py\u001b[0m in \u001b[0;36mread_csv\u001b[0;34m(filepath_or_buffer, sep, delimiter, header, names, index_col, usecols, dtype, engine, converters, true_values, false_values, skipinitialspace, skiprows, skipfooter, nrows, na_values, keep_default_na, na_filter, verbose, skip_blank_lines, parse_dates, infer_datetime_format, keep_date_col, date_parser, date_format, dayfirst, cache_dates, iterator, chunksize, compression, thousands, decimal, lineterminator, quotechar, quoting, doublequote, escapechar, comment, encoding, encoding_errors, dialect, on_bad_lines, delim_whitespace, low_memory, memory_map, float_precision, storage_options, dtype_backend)\u001b[0m\n\u001b[1;32m   1024\u001b[0m     \u001b[0mkwds\u001b[0m\u001b[0;34m.\u001b[0m\u001b[0mupdate\u001b[0m\u001b[0;34m(\u001b[0m\u001b[0mkwds_defaults\u001b[0m\u001b[0;34m)\u001b[0m\u001b[0;34m\u001b[0m\u001b[0;34m\u001b[0m\u001b[0m\n\u001b[1;32m   1025\u001b[0m \u001b[0;34m\u001b[0m\u001b[0m\n\u001b[0;32m-> 1026\u001b[0;31m     \u001b[0;32mreturn\u001b[0m \u001b[0m_read\u001b[0m\u001b[0;34m(\u001b[0m\u001b[0mfilepath_or_buffer\u001b[0m\u001b[0;34m,\u001b[0m \u001b[0mkwds\u001b[0m\u001b[0;34m)\u001b[0m\u001b[0;34m\u001b[0m\u001b[0;34m\u001b[0m\u001b[0m\n\u001b[0m\u001b[1;32m   1027\u001b[0m \u001b[0;34m\u001b[0m\u001b[0m\n\u001b[1;32m   1028\u001b[0m \u001b[0;34m\u001b[0m\u001b[0m\n",
            "\u001b[0;32m/usr/local/lib/python3.11/dist-packages/pandas/io/parsers/readers.py\u001b[0m in \u001b[0;36m_read\u001b[0;34m(filepath_or_buffer, kwds)\u001b[0m\n\u001b[1;32m    618\u001b[0m \u001b[0;34m\u001b[0m\u001b[0m\n\u001b[1;32m    619\u001b[0m     \u001b[0;31m# Create the parser.\u001b[0m\u001b[0;34m\u001b[0m\u001b[0;34m\u001b[0m\u001b[0m\n\u001b[0;32m--> 620\u001b[0;31m     \u001b[0mparser\u001b[0m \u001b[0;34m=\u001b[0m \u001b[0mTextFileReader\u001b[0m\u001b[0;34m(\u001b[0m\u001b[0mfilepath_or_buffer\u001b[0m\u001b[0;34m,\u001b[0m \u001b[0;34m**\u001b[0m\u001b[0mkwds\u001b[0m\u001b[0;34m)\u001b[0m\u001b[0;34m\u001b[0m\u001b[0;34m\u001b[0m\u001b[0m\n\u001b[0m\u001b[1;32m    621\u001b[0m \u001b[0;34m\u001b[0m\u001b[0m\n\u001b[1;32m    622\u001b[0m     \u001b[0;32mif\u001b[0m \u001b[0mchunksize\u001b[0m \u001b[0;32mor\u001b[0m \u001b[0miterator\u001b[0m\u001b[0;34m:\u001b[0m\u001b[0;34m\u001b[0m\u001b[0;34m\u001b[0m\u001b[0m\n",
            "\u001b[0;32m/usr/local/lib/python3.11/dist-packages/pandas/io/parsers/readers.py\u001b[0m in \u001b[0;36m__init__\u001b[0;34m(self, f, engine, **kwds)\u001b[0m\n\u001b[1;32m   1618\u001b[0m \u001b[0;34m\u001b[0m\u001b[0m\n\u001b[1;32m   1619\u001b[0m         \u001b[0mself\u001b[0m\u001b[0;34m.\u001b[0m\u001b[0mhandles\u001b[0m\u001b[0;34m:\u001b[0m \u001b[0mIOHandles\u001b[0m \u001b[0;34m|\u001b[0m \u001b[0;32mNone\u001b[0m \u001b[0;34m=\u001b[0m \u001b[0;32mNone\u001b[0m\u001b[0;34m\u001b[0m\u001b[0;34m\u001b[0m\u001b[0m\n\u001b[0;32m-> 1620\u001b[0;31m         \u001b[0mself\u001b[0m\u001b[0;34m.\u001b[0m\u001b[0m_engine\u001b[0m \u001b[0;34m=\u001b[0m \u001b[0mself\u001b[0m\u001b[0;34m.\u001b[0m\u001b[0m_make_engine\u001b[0m\u001b[0;34m(\u001b[0m\u001b[0mf\u001b[0m\u001b[0;34m,\u001b[0m \u001b[0mself\u001b[0m\u001b[0;34m.\u001b[0m\u001b[0mengine\u001b[0m\u001b[0;34m)\u001b[0m\u001b[0;34m\u001b[0m\u001b[0;34m\u001b[0m\u001b[0m\n\u001b[0m\u001b[1;32m   1621\u001b[0m \u001b[0;34m\u001b[0m\u001b[0m\n\u001b[1;32m   1622\u001b[0m     \u001b[0;32mdef\u001b[0m \u001b[0mclose\u001b[0m\u001b[0;34m(\u001b[0m\u001b[0mself\u001b[0m\u001b[0;34m)\u001b[0m \u001b[0;34m->\u001b[0m \u001b[0;32mNone\u001b[0m\u001b[0;34m:\u001b[0m\u001b[0;34m\u001b[0m\u001b[0;34m\u001b[0m\u001b[0m\n",
            "\u001b[0;32m/usr/local/lib/python3.11/dist-packages/pandas/io/parsers/readers.py\u001b[0m in \u001b[0;36m_make_engine\u001b[0;34m(self, f, engine)\u001b[0m\n\u001b[1;32m   1878\u001b[0m                 \u001b[0;32mif\u001b[0m \u001b[0;34m\"b\"\u001b[0m \u001b[0;32mnot\u001b[0m \u001b[0;32min\u001b[0m \u001b[0mmode\u001b[0m\u001b[0;34m:\u001b[0m\u001b[0;34m\u001b[0m\u001b[0;34m\u001b[0m\u001b[0m\n\u001b[1;32m   1879\u001b[0m                     \u001b[0mmode\u001b[0m \u001b[0;34m+=\u001b[0m \u001b[0;34m\"b\"\u001b[0m\u001b[0;34m\u001b[0m\u001b[0;34m\u001b[0m\u001b[0m\n\u001b[0;32m-> 1880\u001b[0;31m             self.handles = get_handle(\n\u001b[0m\u001b[1;32m   1881\u001b[0m                 \u001b[0mf\u001b[0m\u001b[0;34m,\u001b[0m\u001b[0;34m\u001b[0m\u001b[0;34m\u001b[0m\u001b[0m\n\u001b[1;32m   1882\u001b[0m                 \u001b[0mmode\u001b[0m\u001b[0;34m,\u001b[0m\u001b[0;34m\u001b[0m\u001b[0;34m\u001b[0m\u001b[0m\n",
            "\u001b[0;32m/usr/local/lib/python3.11/dist-packages/pandas/io/common.py\u001b[0m in \u001b[0;36mget_handle\u001b[0;34m(path_or_buf, mode, encoding, compression, memory_map, is_text, errors, storage_options)\u001b[0m\n\u001b[1;32m    871\u001b[0m         \u001b[0;32mif\u001b[0m \u001b[0mioargs\u001b[0m\u001b[0;34m.\u001b[0m\u001b[0mencoding\u001b[0m \u001b[0;32mand\u001b[0m \u001b[0;34m\"b\"\u001b[0m \u001b[0;32mnot\u001b[0m \u001b[0;32min\u001b[0m \u001b[0mioargs\u001b[0m\u001b[0;34m.\u001b[0m\u001b[0mmode\u001b[0m\u001b[0;34m:\u001b[0m\u001b[0;34m\u001b[0m\u001b[0;34m\u001b[0m\u001b[0m\n\u001b[1;32m    872\u001b[0m             \u001b[0;31m# Encoding\u001b[0m\u001b[0;34m\u001b[0m\u001b[0;34m\u001b[0m\u001b[0m\n\u001b[0;32m--> 873\u001b[0;31m             handle = open(\n\u001b[0m\u001b[1;32m    874\u001b[0m                 \u001b[0mhandle\u001b[0m\u001b[0;34m,\u001b[0m\u001b[0;34m\u001b[0m\u001b[0;34m\u001b[0m\u001b[0m\n\u001b[1;32m    875\u001b[0m                 \u001b[0mioargs\u001b[0m\u001b[0;34m.\u001b[0m\u001b[0mmode\u001b[0m\u001b[0;34m,\u001b[0m\u001b[0;34m\u001b[0m\u001b[0;34m\u001b[0m\u001b[0m\n",
            "\u001b[0;31mFileNotFoundError\u001b[0m: [Errno 2] No such file or directory: 'data.csv'"
          ]
        }
      ],
      "source": [
        "%matplotlib inline\n",
        "import pandas as pd\n",
        "import numpy as np\n",
        "import matplotlib.pyplot as plt\n",
        "import seaborn as sns\n",
        "\n",
        "\n",
        "df = pd.read_csv(\"data.csv\", low_memory=False, delimiter='\\t')\n"
      ]
    },
    {
      "cell_type": "code",
      "execution_count": null,
      "id": "397dbfa1",
      "metadata": {
        "id": "397dbfa1"
      },
      "outputs": [],
      "source": [
        "df.shape\n",
        "df.columns.tolist()"
      ]
    },
    {
      "cell_type": "code",
      "execution_count": null,
      "id": "ecd49935",
      "metadata": {
        "id": "ecd49935"
      },
      "outputs": [],
      "source": [
        "def supprimer_colonnes_faible_remplissage(dataframe, seuil=60):\n",
        "    taux_remplissage = dataframe.notnull().mean() * 100\n",
        "    utiles = taux_remplissage > seuil\n",
        "    choix = taux_remplissage[utiles]\n",
        "    return choix.index"
      ]
    },
    {
      "cell_type": "code",
      "execution_count": null,
      "id": "d8c4c4a5",
      "metadata": {
        "id": "d8c4c4a5"
      },
      "outputs": [],
      "source": [
        "col_utiles=supprimer_colonnes_faible_remplissage(df)\n",
        "df60 = df[col_utiles]\n",
        "df60"
      ]
    },
    {
      "cell_type": "code",
      "execution_count": null,
      "id": "9688bfb3",
      "metadata": {
        "id": "9688bfb3"
      },
      "outputs": [],
      "source": [
        "df60.info(verbose=True, show_counts=True)"
      ]
    },
    {
      "cell_type": "code",
      "execution_count": null,
      "id": "2271c658-dcf8-46d0-bcd5-4b087a12f4ee",
      "metadata": {
        "tags": [],
        "id": "2271c658-dcf8-46d0-bcd5-4b087a12f4ee"
      },
      "outputs": [],
      "source": [
        "inutiles=['last_modified_t','last_modified_datetime','creator','created_t','created_datetime','code','url','states_fr',\n",
        "          'states_tags','states','countries','countries_tags','brands_tags','nutrition-score-uk_100g','serving_size']"
      ]
    },
    {
      "cell_type": "code",
      "execution_count": null,
      "id": "15b73ed0",
      "metadata": {
        "id": "15b73ed0"
      },
      "outputs": [],
      "source": [
        "df60['pnns_groups_1']=df['pnns_groups_1'].copy()"
      ]
    },
    {
      "cell_type": "code",
      "execution_count": null,
      "id": "f92633c7-9841-4617-9e6d-9c3332174ff7",
      "metadata": {
        "tags": [],
        "id": "f92633c7-9841-4617-9e6d-9c3332174ff7"
      },
      "outputs": [],
      "source": [
        "df60=df60.drop(inutiles, axis=1)\n",
        "dfmean = df60.notnull().mean() * 100\n",
        "dfmean.sort_values(axis=0, ascending=False, inplace=True)\n",
        "dfmean"
      ]
    },
    {
      "cell_type": "code",
      "execution_count": null,
      "id": "a6f72158",
      "metadata": {
        "id": "a6f72158"
      },
      "outputs": [],
      "source": [
        "df60.index\n",
        "# crée un index des en-têtes de colonnes restantes"
      ]
    },
    {
      "cell_type": "code",
      "execution_count": null,
      "id": "ab775174",
      "metadata": {
        "id": "ab775174"
      },
      "outputs": [],
      "source": [
        "dfmean=pd.DataFrame(data=dfmean.values.reshape(1,-1), columns=dfmean.index)\n",
        "plt.subplots(figsize=(6,6))\n",
        "sns.barplot(data=dfmean, orient=\"h\")\n",
        "plt.xlabel(\"Taux de remplissage\")\n",
        "# Affiche les taux de remplissage des colonnes de dfmean triés"
      ]
    },
    {
      "cell_type": "code",
      "execution_count": null,
      "id": "af0b8a71",
      "metadata": {
        "id": "af0b8a71"
      },
      "outputs": [],
      "source": [
        "df60['energy_100g'].max()"
      ]
    },
    {
      "cell_type": "code",
      "execution_count": null,
      "id": "51411e71",
      "metadata": {
        "id": "51411e71"
      },
      "outputs": [],
      "source": [
        "engie_df = df60[df60['energy_100g'] > 3700]\n",
        "engie_df"
      ]
    },
    {
      "cell_type": "code",
      "execution_count": null,
      "id": "128c43e4",
      "metadata": {
        "id": "128c43e4"
      },
      "outputs": [],
      "source": [
        "df60['energy_100g'] = df60['energy_100g'].apply(lambda x: np.nan if x > 3700 else x)"
      ]
    },
    {
      "cell_type": "code",
      "execution_count": null,
      "id": "ebd914f8",
      "metadata": {
        "id": "ebd914f8"
      },
      "outputs": [],
      "source": [
        "df60['energy_100g'] = df60['energy_100g'].apply(lambda y: np.nan if y < 0 else y)"
      ]
    },
    {
      "cell_type": "code",
      "execution_count": null,
      "id": "f5a6751f",
      "metadata": {
        "id": "f5a6751f"
      },
      "outputs": [],
      "source": [
        "colonnes_float = df60.select_dtypes(include=['float']).columns.tolist()\n",
        "colonnes_float"
      ]
    },
    {
      "cell_type": "code",
      "execution_count": null,
      "id": "b04cc71e",
      "metadata": {
        "id": "b04cc71e"
      },
      "outputs": [],
      "source": [
        "from sklearn.impute import SimpleImputer\n",
        "imp_const = SimpleImputer(missing_values=np.nan, strategy='constant', fill_value=0)\n",
        "df60['fiber_100g'] = imp_const.fit_transform(df60[['fiber_100g']])"
      ]
    },
    {
      "cell_type": "code",
      "execution_count": null,
      "id": "4d57b270",
      "metadata": {
        "id": "4d57b270"
      },
      "outputs": [],
      "source": [
        "df60[colonnes_float].info()"
      ]
    },
    {
      "cell_type": "code",
      "execution_count": null,
      "id": "e4821e83",
      "metadata": {
        "id": "e4821e83"
      },
      "outputs": [],
      "source": [
        "from sklearn.impute import KNNImputer\n",
        "imputer = KNNImputer(n_neighbors=3)\n",
        "array_imputed = imputer.fit_transform(df60[colonnes_float])\n",
        "df60.loc[:,colonnes_float] = array_imputed"
      ]
    },
    {
      "cell_type": "code",
      "execution_count": null,
      "id": "175bb257",
      "metadata": {
        "id": "175bb257"
      },
      "outputs": [],
      "source": [
        "dfmean = df60.notnull().mean() * 100\n",
        "dfmean.sort_values(axis=0, ascending=False, inplace=True)\n",
        "dfmean=pd.DataFrame(data=dfmean.values.reshape(1,-1), columns=dfmean.index)\n",
        "plt.subplots(figsize=(6,6))\n",
        "sns.barplot(data=dfmean, orient=\"h\")\n",
        "plt.xlabel(\"Taux de remplissage\")\n",
        "# Affiche les taux de remplissage des colonnes de dfmean triés"
      ]
    },
    {
      "cell_type": "code",
      "execution_count": null,
      "id": "8387d5be",
      "metadata": {
        "id": "8387d5be"
      },
      "outputs": [],
      "source": [
        "df60.info()"
      ]
    },
    {
      "cell_type": "code",
      "execution_count": null,
      "id": "f8138e6c",
      "metadata": {
        "id": "f8138e6c"
      },
      "outputs": [],
      "source": [
        "df60.to_csv(\"donnees_nettoyees.csv\", sep=',', index_label=False)"
      ]
    },
    {
      "cell_type": "code",
      "execution_count": null,
      "id": "d0f1db65",
      "metadata": {
        "id": "d0f1db65"
      },
      "outputs": [],
      "source": []
    }
  ],
  "metadata": {
    "kernelspec": {
      "display_name": "Python 3 (ipykernel)",
      "language": "python",
      "name": "python3"
    },
    "language_info": {
      "codemirror_mode": {
        "name": "ipython",
        "version": 3
      },
      "file_extension": ".py",
      "mimetype": "text/x-python",
      "name": "python",
      "nbconvert_exporter": "python",
      "pygments_lexer": "ipython3",
      "version": "3.11.4"
    },
    "colab": {
      "provenance": [],
      "include_colab_link": true
    }
  },
  "nbformat": 4,
  "nbformat_minor": 5
}